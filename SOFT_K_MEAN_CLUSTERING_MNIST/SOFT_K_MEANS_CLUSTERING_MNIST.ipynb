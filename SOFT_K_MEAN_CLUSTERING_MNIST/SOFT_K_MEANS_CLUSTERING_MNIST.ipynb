{
  "nbformat": 4,
  "nbformat_minor": 0,
  "metadata": {
    "colab": {
      "provenance": [],
      "gpuType": "T4"
    },
    "kernelspec": {
      "name": "python3",
      "display_name": "Python 3"
    },
    "language_info": {
      "name": "python"
    },
    "accelerator": "GPU"
  },
  "cells": [
    {
      "cell_type": "markdown",
      "source": [
        "# Soft K-Means Clustering on the MNIST dataset\n",
        "Test the soft k-means clustering implementation on the mnist dataset."
      ],
      "metadata": {
        "id": "z2FWHG2tIA_r"
      }
    },
    {
      "cell_type": "markdown",
      "source": [
        "# Import Dependencies"
      ],
      "metadata": {
        "id": "uM-SdOapIGsK"
      }
    },
    {
      "cell_type": "code",
      "execution_count": 1,
      "metadata": {
        "colab": {
          "base_uri": "https://localhost:8080/"
        },
        "id": "2PKJ25wTH8is",
        "outputId": "b6865abf-c909-4aff-8928-b5e3953b508e"
      },
      "outputs": [
        {
          "output_type": "stream",
          "name": "stdout",
          "text": [
            "rm: cannot remove 'CLUSTERING_ALGORITHMS': No such file or directory\n",
            "rm: cannot remove 'utils': No such file or directory\n",
            "Cloning into 'CLUSTERING_ALGORITHMS'...\n",
            "remote: Enumerating objects: 41, done.\u001b[K\n",
            "remote: Counting objects: 100% (41/41), done.\u001b[K\n",
            "remote: Compressing objects: 100% (34/34), done.\u001b[K\n",
            "remote: Total 41 (delta 15), reused 33 (delta 7), pack-reused 0\u001b[K\n",
            "Receiving objects: 100% (41/41), 8.28 KiB | 8.28 MiB/s, done.\n",
            "Resolving deltas: 100% (15/15), done.\n"
          ]
        }
      ],
      "source": [
        "!rm -r CLUSTERING_ALGORITHMS utils\n",
        "!git clone https://github.com/Q-b1t/CLUSTERING_ALGORITHMS.git\n",
        "!mkdir utils && cp /content/CLUSTERING_ALGORITHMS/data_utils/* utils && cp /content/CLUSTERING_ALGORITHMS/SOFT_K_MEAN_CLUSTERING/SoftKMeanClustering.py utils"
      ]
    },
    {
      "cell_type": "markdown",
      "source": [
        "# Get Data"
      ],
      "metadata": {
        "id": "gdYJZtklINF6"
      }
    },
    {
      "cell_type": "code",
      "source": [
        "!rm -r G.A.I_MISCELLANEUS_RESOURCES mnist_data\n",
        "!git clone https://github.com/Q-b1t/G.A.I_MISCELLANEUS_RESOURCES.git\n",
        "!mkdir mnist_data\n",
        "!unzip /content/G.A.I_MISCELLANEUS_RESOURCES/digit_recognizer/digit-recognizer.zip -d mnist_data"
      ],
      "metadata": {
        "colab": {
          "base_uri": "https://localhost:8080/"
        },
        "id": "TLWRWNRAIP8s",
        "outputId": "86033415-23d4-4b03-abee-beb92542c072"
      },
      "execution_count": 2,
      "outputs": [
        {
          "output_type": "stream",
          "name": "stdout",
          "text": [
            "rm: cannot remove 'G.A.I_MISCELLANEUS_RESOURCES': No such file or directory\n",
            "rm: cannot remove 'mnist_data': No such file or directory\n",
            "Cloning into 'G.A.I_MISCELLANEUS_RESOURCES'...\n",
            "remote: Enumerating objects: 82, done.\u001b[K\n",
            "remote: Counting objects: 100% (82/82), done.\u001b[K\n",
            "remote: Compressing objects: 100% (70/70), done.\u001b[K\n",
            "remote: Total 82 (delta 12), reused 73 (delta 6), pack-reused 0\u001b[K\n",
            "Receiving objects: 100% (82/82), 20.05 MiB | 24.15 MiB/s, done.\n",
            "Resolving deltas: 100% (12/12), done.\n",
            "Archive:  /content/G.A.I_MISCELLANEUS_RESOURCES/digit_recognizer/digit-recognizer.zip\n",
            "  inflating: mnist_data/sample_submission.csv  \n",
            "  inflating: mnist_data/test.csv     \n",
            "  inflating: mnist_data/train.csv    \n"
          ]
        }
      ]
    },
    {
      "cell_type": "code",
      "source": [
        "import numpy as np\n",
        "import pandas as pd\n",
        "from utils.clustering_data_utils import *\n",
        "from utils.SoftKMeanClustering import SoftKMeansClustering"
      ],
      "metadata": {
        "id": "QpOAILEBISZR"
      },
      "execution_count": 3,
      "outputs": []
    },
    {
      "cell_type": "code",
      "source": [
        "data_path = \"/content/mnist_data/train.csv\""
      ],
      "metadata": {
        "id": "U5l_bf4cIVcf"
      },
      "execution_count": 4,
      "outputs": []
    },
    {
      "cell_type": "code",
      "source": [
        "# will train on 50% of the total amount of data\n",
        "X,Y = get_mnist(data_path,lower_limit = 0.5,shuffle_data = True)\n",
        "X.shape,Y.shape"
      ],
      "metadata": {
        "colab": {
          "base_uri": "https://localhost:8080/"
        },
        "id": "w0JKXynZIYrS",
        "outputId": "d83a1930-a96b-479c-95db-f3fe49d71c49"
      },
      "execution_count": 5,
      "outputs": [
        {
          "output_type": "execute_result",
          "data": {
            "text/plain": [
              "((21000, 784), (21000,))"
            ]
          },
          "metadata": {},
          "execution_count": 5
        }
      ]
    },
    {
      "cell_type": "markdown",
      "source": [
        "# Train the Model"
      ],
      "metadata": {
        "id": "w1UNYiJzIsUz"
      }
    },
    {
      "cell_type": "code",
      "source": [
        "K = len(set(Y)) # number of clusters from the dataset\n",
        "MAX_ITERATIONS = 20\n",
        "print(f\"[~] Number of clusters: {K}\")\n",
        "print(f\"[~] Training for {MAX_ITERATIONS} epochs\")\n",
        "\n",
        "model = SoftKMeansClustering(max_iterations=MAX_ITERATIONS)\n",
        "M,R,costs = model.fit(X,K)"
      ],
      "metadata": {
        "colab": {
          "base_uri": "https://localhost:8080/"
        },
        "id": "GbLKewYFIp9Z",
        "outputId": "aa1d6bc3-0e95-428a-e38e-175461dec1ae"
      },
      "execution_count": 6,
      "outputs": [
        {
          "output_type": "stream",
          "name": "stdout",
          "text": [
            "[~] Number of clusters: 10\n",
            "[~] Training for 20 epochs\n"
          ]
        },
        {
          "output_type": "stream",
          "name": "stderr",
          "text": [
            "100%|██████████| 20/20 [00:44<00:00,  2.23s/it]\n"
          ]
        }
      ]
    },
    {
      "cell_type": "markdown",
      "source": [
        "## Evaluation"
      ],
      "metadata": {
        "id": "tO7piC21JF9V"
      }
    },
    {
      "cell_type": "code",
      "source": [
        "print(f\"[~] Purity Score: {model.purity(Y)}\")\n",
        "print(f\"[~] Hard Purity Score: {model.purity_hard_labels(Y)}\")"
      ],
      "metadata": {
        "colab": {
          "base_uri": "https://localhost:8080/"
        },
        "id": "eJpdE7kXJFhI",
        "outputId": "6a7164d6-8783-4677-e26f-f5f5a67814b0"
      },
      "execution_count": 7,
      "outputs": [
        {
          "output_type": "stream",
          "name": "stdout",
          "text": [
            "[~] Purity Score: 0.5554702627510809\n",
            "[~] Hard Purity Score: 0.5557619047619048\n"
          ]
        }
      ]
    },
    {
      "cell_type": "code",
      "source": [
        "print(f\"[~] Davies Boulding Score: {model.davies_boulding_index(X)}\")\n",
        "print(f\"[~] Hard Davies Boulding Score: {model.davies_boulding_index_hard(X)}\")"
      ],
      "metadata": {
        "colab": {
          "base_uri": "https://localhost:8080/"
        },
        "id": "oHLI3xlNJLAX",
        "outputId": "c5f3d398-9f04-4af2-8be1-5ab49d69158f"
      },
      "execution_count": 11,
      "outputs": [
        {
          "output_type": "stream",
          "name": "stdout",
          "text": [
            "[~] Davies Boulding Score: 2.3819605503486976\n",
            "[~] Hard Davies Boulding Score: 2.3805832018230966\n"
          ]
        }
      ]
    }
  ]
}