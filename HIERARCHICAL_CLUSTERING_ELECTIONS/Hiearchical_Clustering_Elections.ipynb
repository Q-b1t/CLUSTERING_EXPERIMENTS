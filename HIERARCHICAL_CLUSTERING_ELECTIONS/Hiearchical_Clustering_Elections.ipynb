{
  "nbformat": 4,
  "nbformat_minor": 0,
  "metadata": {
    "colab": {
      "provenance": []
    },
    "kernelspec": {
      "name": "python3",
      "display_name": "Python 3"
    },
    "language_info": {
      "name": "python"
    }
  },
  "cells": [
    {
      "cell_type": "markdown",
      "source": [
        "# Get Data"
      ],
      "metadata": {
        "id": "cd2ikKtlfyuz"
      }
    },
    {
      "cell_type": "code",
      "execution_count": 1,
      "metadata": {
        "colab": {
          "base_uri": "https://localhost:8080/"
        },
        "id": "uIILsRbrdVDW",
        "outputId": "a4bea932-7903-4da2-fc4a-abc3be191afe"
      },
      "outputs": [
        {
          "output_type": "stream",
          "name": "stdout",
          "text": [
            "rm: cannot remove 'G.A.I_MISCELLANEUS_RESOURCES': No such file or directory\n",
            "rm: cannot remove 'mnist_data': No such file or directory\n",
            "Cloning into 'G.A.I_MISCELLANEUS_RESOURCES'...\n",
            "remote: Enumerating objects: 86, done.\u001b[K\n",
            "remote: Counting objects: 100% (86/86), done.\u001b[K\n",
            "remote: Compressing objects: 100% (73/73), done.\u001b[K\n",
            "remote: Total 86 (delta 13), reused 76 (delta 6), pack-reused 0\u001b[K\n",
            "Receiving objects: 100% (86/86), 20.97 MiB | 23.55 MiB/s, done.\n",
            "Resolving deltas: 100% (13/13), done.\n",
            "Archive:  /content/G.A.I_MISCELLANEUS_RESOURCES/social_media_tweets/archive.zip\n",
            "  inflating: tweet_data/tweets.csv   \n"
          ]
        }
      ],
      "source": [
        "!rm -r G.A.I_MISCELLANEUS_RESOURCES mnist_data\n",
        "!git clone https://github.com/Q-b1t/G.A.I_MISCELLANEUS_RESOURCES.git\n",
        "!mkdir tweet_data\n",
        "!unzip /content/G.A.I_MISCELLANEUS_RESOURCES/social_media_tweets/archive.zip -d tweet_data"
      ]
    },
    {
      "cell_type": "markdown",
      "source": [
        "# Data Preprocessing"
      ],
      "metadata": {
        "id": "JJYbVAFsgH2w"
      }
    },
    {
      "cell_type": "code",
      "source": [
        "import matplotlib.pyplot as plt\n",
        "import numpy as np\n",
        "import pandas as pd\n",
        "import re\n",
        "from scipy.cluster.hierarchy import dendrogram, linkage, fcluster\n",
        "from sklearn.feature_extraction.text import TfidfVectorizer\n",
        "from scipy.spatial.distance import pdist"
      ],
      "metadata": {
        "id": "EjX9B51MgKys"
      },
      "execution_count": 2,
      "outputs": []
    },
    {
      "cell_type": "code",
      "source": [
        "# list of common words that should not be included in the contexts as all of them are frequent but not meaningfull to any specific context\n",
        "stopwords = [\n",
        "  'the',\n",
        "  'about',\n",
        "  'an',\n",
        "  'and',\n",
        "  'are',\n",
        "  'at',\n",
        "  'be',\n",
        "  'can',\n",
        "  'for',\n",
        "  'from',\n",
        "  'if',\n",
        "  'in',\n",
        "  'is',\n",
        "  'it',\n",
        "  'of',\n",
        "  'on',\n",
        "  'or',\n",
        "  'that',\n",
        "  'this',\n",
        "  'to',\n",
        "  'you',\n",
        "  'your',\n",
        "  'with',\n",
        "]\n"
      ],
      "metadata": {
        "id": "IffezwFLgS3c"
      },
      "execution_count": 3,
      "outputs": []
    },
    {
      "cell_type": "code",
      "source": [
        "# delle funzioni importanti\n",
        "\n",
        "url_filter = re.compile(r\"(?:\\@|https?\\://)\\S+\") # expressione regolare per trovare degli username et degli url\n",
        "\n",
        "def filter_tweets(s):\n",
        "  \"\"\"\n",
        "  Questa funzione riceve degli string e lo pulishe togliendo tutti e due gli username e gli url.\n",
        "  Argomenti:\n",
        "    - s: uno string senza processare.\n",
        "  \"\"\"\n",
        "  s = s.lower() # toglie le maiuscole\n",
        "  s = url_filter.sub(\"\",s) # sustituisce qualsiasi url/username che riesca a trovare\n",
        "  return s\n"
      ],
      "metadata": {
        "id": "0kz7TBiig9yA"
      },
      "execution_count": 4,
      "outputs": []
    },
    {
      "cell_type": "markdown",
      "source": [
        "# Load data"
      ],
      "metadata": {
        "id": "74VdQ3PKkI_w"
      }
    },
    {
      "cell_type": "code",
      "source": [
        "# caricare i dati\n",
        "df = pd.read_csv(\"/content/tweet_data/tweets.csv\")\n",
        "df.head()"
      ],
      "metadata": {
        "colab": {
          "base_uri": "https://localhost:8080/",
          "height": 533
        },
        "id": "x-ZGUUfbkIq-",
        "outputId": "5d2e84a4-66b3-4d75-af96-e4b5ec991a14"
      },
      "execution_count": 5,
      "outputs": [
        {
          "output_type": "execute_result",
          "data": {
            "text/plain": [
              "                   id          handle  \\\n",
              "0  780925634159796224  HillaryClinton   \n",
              "1  780916180899037184  HillaryClinton   \n",
              "2  780911564857761793  HillaryClinton   \n",
              "3  780907038650068994  HillaryClinton   \n",
              "4  780897419462602752  HillaryClinton   \n",
              "\n",
              "                                                text  is_retweet  \\\n",
              "0  The question in this election: Who can put the...       False   \n",
              "1  Last night, Donald Trump said not paying taxes...        True   \n",
              "2  Couldn't be more proud of @HillaryClinton. Her...        True   \n",
              "3  If we stand together, there's nothing we can't...       False   \n",
              "4  Both candidates were asked about how they'd co...       False   \n",
              "\n",
              "  original_author                 time in_reply_to_screen_name  \\\n",
              "0             NaN  2016-09-28T00:22:34                     NaN   \n",
              "1        timkaine  2016-09-27T23:45:00                     NaN   \n",
              "2           POTUS  2016-09-27T23:26:40                     NaN   \n",
              "3             NaN  2016-09-27T23:08:41                     NaN   \n",
              "4             NaN  2016-09-27T22:30:27                     NaN   \n",
              "\n",
              "   in_reply_to_status_id  in_reply_to_user_id  is_quote_status  ...  \\\n",
              "0                    NaN                  NaN            False  ...   \n",
              "1                    NaN                  NaN            False  ...   \n",
              "2                    NaN                  NaN            False  ...   \n",
              "3                    NaN                  NaN            False  ...   \n",
              "4                    NaN                  NaN            False  ...   \n",
              "\n",
              "  place_type  place_country_code  place_country  place_contained_within  \\\n",
              "0        NaN                 NaN            NaN                     NaN   \n",
              "1        NaN                 NaN            NaN                     NaN   \n",
              "2        NaN                 NaN            NaN                     NaN   \n",
              "3        NaN                 NaN            NaN                     NaN   \n",
              "4        NaN                 NaN            NaN                     NaN   \n",
              "\n",
              "   place_attributes place_bounding_box  \\\n",
              "0               NaN                NaN   \n",
              "1               NaN                NaN   \n",
              "2               NaN                NaN   \n",
              "3               NaN                NaN   \n",
              "4               NaN                NaN   \n",
              "\n",
              "                                     source_url truncated  \\\n",
              "0                    https://studio.twitter.com     False   \n",
              "1                            http://twitter.com     False   \n",
              "2  https://about.twitter.com/products/tweetdeck     False   \n",
              "3                    https://studio.twitter.com     False   \n",
              "4  https://about.twitter.com/products/tweetdeck     False   \n",
              "\n",
              "                                            entities  \\\n",
              "0  {'media': [{'display_url': 'pic.twitter.com/Xr...   \n",
              "1  {'media': [{'display_url': 'pic.twitter.com/t0...   \n",
              "2  {'user_mentions': [{'id_str': '1536791610', 'n...   \n",
              "3  {'media': [{'display_url': 'pic.twitter.com/Q3...   \n",
              "4  {'user_mentions': [], 'symbols': [], 'urls': [...   \n",
              "\n",
              "                                   extended_entities  \n",
              "0  {'media': [{'display_url': 'pic.twitter.com/Xr...  \n",
              "1  {'media': [{'display_url': 'pic.twitter.com/t0...  \n",
              "2                                                NaN  \n",
              "3  {'media': [{'display_url': 'pic.twitter.com/Q3...  \n",
              "4                                                NaN  \n",
              "\n",
              "[5 rows x 28 columns]"
            ],
            "text/html": [
              "\n",
              "  <div id=\"df-fc53d999-125b-46ec-ae6e-aa1575ec4d3d\" class=\"colab-df-container\">\n",
              "    <div>\n",
              "<style scoped>\n",
              "    .dataframe tbody tr th:only-of-type {\n",
              "        vertical-align: middle;\n",
              "    }\n",
              "\n",
              "    .dataframe tbody tr th {\n",
              "        vertical-align: top;\n",
              "    }\n",
              "\n",
              "    .dataframe thead th {\n",
              "        text-align: right;\n",
              "    }\n",
              "</style>\n",
              "<table border=\"1\" class=\"dataframe\">\n",
              "  <thead>\n",
              "    <tr style=\"text-align: right;\">\n",
              "      <th></th>\n",
              "      <th>id</th>\n",
              "      <th>handle</th>\n",
              "      <th>text</th>\n",
              "      <th>is_retweet</th>\n",
              "      <th>original_author</th>\n",
              "      <th>time</th>\n",
              "      <th>in_reply_to_screen_name</th>\n",
              "      <th>in_reply_to_status_id</th>\n",
              "      <th>in_reply_to_user_id</th>\n",
              "      <th>is_quote_status</th>\n",
              "      <th>...</th>\n",
              "      <th>place_type</th>\n",
              "      <th>place_country_code</th>\n",
              "      <th>place_country</th>\n",
              "      <th>place_contained_within</th>\n",
              "      <th>place_attributes</th>\n",
              "      <th>place_bounding_box</th>\n",
              "      <th>source_url</th>\n",
              "      <th>truncated</th>\n",
              "      <th>entities</th>\n",
              "      <th>extended_entities</th>\n",
              "    </tr>\n",
              "  </thead>\n",
              "  <tbody>\n",
              "    <tr>\n",
              "      <th>0</th>\n",
              "      <td>780925634159796224</td>\n",
              "      <td>HillaryClinton</td>\n",
              "      <td>The question in this election: Who can put the...</td>\n",
              "      <td>False</td>\n",
              "      <td>NaN</td>\n",
              "      <td>2016-09-28T00:22:34</td>\n",
              "      <td>NaN</td>\n",
              "      <td>NaN</td>\n",
              "      <td>NaN</td>\n",
              "      <td>False</td>\n",
              "      <td>...</td>\n",
              "      <td>NaN</td>\n",
              "      <td>NaN</td>\n",
              "      <td>NaN</td>\n",
              "      <td>NaN</td>\n",
              "      <td>NaN</td>\n",
              "      <td>NaN</td>\n",
              "      <td>https://studio.twitter.com</td>\n",
              "      <td>False</td>\n",
              "      <td>{'media': [{'display_url': 'pic.twitter.com/Xr...</td>\n",
              "      <td>{'media': [{'display_url': 'pic.twitter.com/Xr...</td>\n",
              "    </tr>\n",
              "    <tr>\n",
              "      <th>1</th>\n",
              "      <td>780916180899037184</td>\n",
              "      <td>HillaryClinton</td>\n",
              "      <td>Last night, Donald Trump said not paying taxes...</td>\n",
              "      <td>True</td>\n",
              "      <td>timkaine</td>\n",
              "      <td>2016-09-27T23:45:00</td>\n",
              "      <td>NaN</td>\n",
              "      <td>NaN</td>\n",
              "      <td>NaN</td>\n",
              "      <td>False</td>\n",
              "      <td>...</td>\n",
              "      <td>NaN</td>\n",
              "      <td>NaN</td>\n",
              "      <td>NaN</td>\n",
              "      <td>NaN</td>\n",
              "      <td>NaN</td>\n",
              "      <td>NaN</td>\n",
              "      <td>http://twitter.com</td>\n",
              "      <td>False</td>\n",
              "      <td>{'media': [{'display_url': 'pic.twitter.com/t0...</td>\n",
              "      <td>{'media': [{'display_url': 'pic.twitter.com/t0...</td>\n",
              "    </tr>\n",
              "    <tr>\n",
              "      <th>2</th>\n",
              "      <td>780911564857761793</td>\n",
              "      <td>HillaryClinton</td>\n",
              "      <td>Couldn't be more proud of @HillaryClinton. Her...</td>\n",
              "      <td>True</td>\n",
              "      <td>POTUS</td>\n",
              "      <td>2016-09-27T23:26:40</td>\n",
              "      <td>NaN</td>\n",
              "      <td>NaN</td>\n",
              "      <td>NaN</td>\n",
              "      <td>False</td>\n",
              "      <td>...</td>\n",
              "      <td>NaN</td>\n",
              "      <td>NaN</td>\n",
              "      <td>NaN</td>\n",
              "      <td>NaN</td>\n",
              "      <td>NaN</td>\n",
              "      <td>NaN</td>\n",
              "      <td>https://about.twitter.com/products/tweetdeck</td>\n",
              "      <td>False</td>\n",
              "      <td>{'user_mentions': [{'id_str': '1536791610', 'n...</td>\n",
              "      <td>NaN</td>\n",
              "    </tr>\n",
              "    <tr>\n",
              "      <th>3</th>\n",
              "      <td>780907038650068994</td>\n",
              "      <td>HillaryClinton</td>\n",
              "      <td>If we stand together, there's nothing we can't...</td>\n",
              "      <td>False</td>\n",
              "      <td>NaN</td>\n",
              "      <td>2016-09-27T23:08:41</td>\n",
              "      <td>NaN</td>\n",
              "      <td>NaN</td>\n",
              "      <td>NaN</td>\n",
              "      <td>False</td>\n",
              "      <td>...</td>\n",
              "      <td>NaN</td>\n",
              "      <td>NaN</td>\n",
              "      <td>NaN</td>\n",
              "      <td>NaN</td>\n",
              "      <td>NaN</td>\n",
              "      <td>NaN</td>\n",
              "      <td>https://studio.twitter.com</td>\n",
              "      <td>False</td>\n",
              "      <td>{'media': [{'display_url': 'pic.twitter.com/Q3...</td>\n",
              "      <td>{'media': [{'display_url': 'pic.twitter.com/Q3...</td>\n",
              "    </tr>\n",
              "    <tr>\n",
              "      <th>4</th>\n",
              "      <td>780897419462602752</td>\n",
              "      <td>HillaryClinton</td>\n",
              "      <td>Both candidates were asked about how they'd co...</td>\n",
              "      <td>False</td>\n",
              "      <td>NaN</td>\n",
              "      <td>2016-09-27T22:30:27</td>\n",
              "      <td>NaN</td>\n",
              "      <td>NaN</td>\n",
              "      <td>NaN</td>\n",
              "      <td>False</td>\n",
              "      <td>...</td>\n",
              "      <td>NaN</td>\n",
              "      <td>NaN</td>\n",
              "      <td>NaN</td>\n",
              "      <td>NaN</td>\n",
              "      <td>NaN</td>\n",
              "      <td>NaN</td>\n",
              "      <td>https://about.twitter.com/products/tweetdeck</td>\n",
              "      <td>False</td>\n",
              "      <td>{'user_mentions': [], 'symbols': [], 'urls': [...</td>\n",
              "      <td>NaN</td>\n",
              "    </tr>\n",
              "  </tbody>\n",
              "</table>\n",
              "<p>5 rows × 28 columns</p>\n",
              "</div>\n",
              "    <div class=\"colab-df-buttons\">\n",
              "\n",
              "  <div class=\"colab-df-container\">\n",
              "    <button class=\"colab-df-convert\" onclick=\"convertToInteractive('df-fc53d999-125b-46ec-ae6e-aa1575ec4d3d')\"\n",
              "            title=\"Convert this dataframe to an interactive table.\"\n",
              "            style=\"display:none;\">\n",
              "\n",
              "  <svg xmlns=\"http://www.w3.org/2000/svg\" height=\"24px\" viewBox=\"0 -960 960 960\">\n",
              "    <path d=\"M120-120v-720h720v720H120Zm60-500h600v-160H180v160Zm220 220h160v-160H400v160Zm0 220h160v-160H400v160ZM180-400h160v-160H180v160Zm440 0h160v-160H620v160ZM180-180h160v-160H180v160Zm440 0h160v-160H620v160Z\"/>\n",
              "  </svg>\n",
              "    </button>\n",
              "\n",
              "  <style>\n",
              "    .colab-df-container {\n",
              "      display:flex;\n",
              "      gap: 12px;\n",
              "    }\n",
              "\n",
              "    .colab-df-convert {\n",
              "      background-color: #E8F0FE;\n",
              "      border: none;\n",
              "      border-radius: 50%;\n",
              "      cursor: pointer;\n",
              "      display: none;\n",
              "      fill: #1967D2;\n",
              "      height: 32px;\n",
              "      padding: 0 0 0 0;\n",
              "      width: 32px;\n",
              "    }\n",
              "\n",
              "    .colab-df-convert:hover {\n",
              "      background-color: #E2EBFA;\n",
              "      box-shadow: 0px 1px 2px rgba(60, 64, 67, 0.3), 0px 1px 3px 1px rgba(60, 64, 67, 0.15);\n",
              "      fill: #174EA6;\n",
              "    }\n",
              "\n",
              "    .colab-df-buttons div {\n",
              "      margin-bottom: 4px;\n",
              "    }\n",
              "\n",
              "    [theme=dark] .colab-df-convert {\n",
              "      background-color: #3B4455;\n",
              "      fill: #D2E3FC;\n",
              "    }\n",
              "\n",
              "    [theme=dark] .colab-df-convert:hover {\n",
              "      background-color: #434B5C;\n",
              "      box-shadow: 0px 1px 3px 1px rgba(0, 0, 0, 0.15);\n",
              "      filter: drop-shadow(0px 1px 2px rgba(0, 0, 0, 0.3));\n",
              "      fill: #FFFFFF;\n",
              "    }\n",
              "  </style>\n",
              "\n",
              "    <script>\n",
              "      const buttonEl =\n",
              "        document.querySelector('#df-fc53d999-125b-46ec-ae6e-aa1575ec4d3d button.colab-df-convert');\n",
              "      buttonEl.style.display =\n",
              "        google.colab.kernel.accessAllowed ? 'block' : 'none';\n",
              "\n",
              "      async function convertToInteractive(key) {\n",
              "        const element = document.querySelector('#df-fc53d999-125b-46ec-ae6e-aa1575ec4d3d');\n",
              "        const dataTable =\n",
              "          await google.colab.kernel.invokeFunction('convertToInteractive',\n",
              "                                                    [key], {});\n",
              "        if (!dataTable) return;\n",
              "\n",
              "        const docLinkHtml = 'Like what you see? Visit the ' +\n",
              "          '<a target=\"_blank\" href=https://colab.research.google.com/notebooks/data_table.ipynb>data table notebook</a>'\n",
              "          + ' to learn more about interactive tables.';\n",
              "        element.innerHTML = '';\n",
              "        dataTable['output_type'] = 'display_data';\n",
              "        await google.colab.output.renderOutput(dataTable, element);\n",
              "        const docLink = document.createElement('div');\n",
              "        docLink.innerHTML = docLinkHtml;\n",
              "        element.appendChild(docLink);\n",
              "      }\n",
              "    </script>\n",
              "  </div>\n",
              "\n",
              "\n",
              "<div id=\"df-642adb4d-db09-4569-bc23-56daad3cb5e5\">\n",
              "  <button class=\"colab-df-quickchart\" onclick=\"quickchart('df-642adb4d-db09-4569-bc23-56daad3cb5e5')\"\n",
              "            title=\"Suggest charts\"\n",
              "            style=\"display:none;\">\n",
              "\n",
              "<svg xmlns=\"http://www.w3.org/2000/svg\" height=\"24px\"viewBox=\"0 0 24 24\"\n",
              "     width=\"24px\">\n",
              "    <g>\n",
              "        <path d=\"M19 3H5c-1.1 0-2 .9-2 2v14c0 1.1.9 2 2 2h14c1.1 0 2-.9 2-2V5c0-1.1-.9-2-2-2zM9 17H7v-7h2v7zm4 0h-2V7h2v10zm4 0h-2v-4h2v4z\"/>\n",
              "    </g>\n",
              "</svg>\n",
              "  </button>\n",
              "\n",
              "<style>\n",
              "  .colab-df-quickchart {\n",
              "      --bg-color: #E8F0FE;\n",
              "      --fill-color: #1967D2;\n",
              "      --hover-bg-color: #E2EBFA;\n",
              "      --hover-fill-color: #174EA6;\n",
              "      --disabled-fill-color: #AAA;\n",
              "      --disabled-bg-color: #DDD;\n",
              "  }\n",
              "\n",
              "  [theme=dark] .colab-df-quickchart {\n",
              "      --bg-color: #3B4455;\n",
              "      --fill-color: #D2E3FC;\n",
              "      --hover-bg-color: #434B5C;\n",
              "      --hover-fill-color: #FFFFFF;\n",
              "      --disabled-bg-color: #3B4455;\n",
              "      --disabled-fill-color: #666;\n",
              "  }\n",
              "\n",
              "  .colab-df-quickchart {\n",
              "    background-color: var(--bg-color);\n",
              "    border: none;\n",
              "    border-radius: 50%;\n",
              "    cursor: pointer;\n",
              "    display: none;\n",
              "    fill: var(--fill-color);\n",
              "    height: 32px;\n",
              "    padding: 0;\n",
              "    width: 32px;\n",
              "  }\n",
              "\n",
              "  .colab-df-quickchart:hover {\n",
              "    background-color: var(--hover-bg-color);\n",
              "    box-shadow: 0 1px 2px rgba(60, 64, 67, 0.3), 0 1px 3px 1px rgba(60, 64, 67, 0.15);\n",
              "    fill: var(--button-hover-fill-color);\n",
              "  }\n",
              "\n",
              "  .colab-df-quickchart-complete:disabled,\n",
              "  .colab-df-quickchart-complete:disabled:hover {\n",
              "    background-color: var(--disabled-bg-color);\n",
              "    fill: var(--disabled-fill-color);\n",
              "    box-shadow: none;\n",
              "  }\n",
              "\n",
              "  .colab-df-spinner {\n",
              "    border: 2px solid var(--fill-color);\n",
              "    border-color: transparent;\n",
              "    border-bottom-color: var(--fill-color);\n",
              "    animation:\n",
              "      spin 1s steps(1) infinite;\n",
              "  }\n",
              "\n",
              "  @keyframes spin {\n",
              "    0% {\n",
              "      border-color: transparent;\n",
              "      border-bottom-color: var(--fill-color);\n",
              "      border-left-color: var(--fill-color);\n",
              "    }\n",
              "    20% {\n",
              "      border-color: transparent;\n",
              "      border-left-color: var(--fill-color);\n",
              "      border-top-color: var(--fill-color);\n",
              "    }\n",
              "    30% {\n",
              "      border-color: transparent;\n",
              "      border-left-color: var(--fill-color);\n",
              "      border-top-color: var(--fill-color);\n",
              "      border-right-color: var(--fill-color);\n",
              "    }\n",
              "    40% {\n",
              "      border-color: transparent;\n",
              "      border-right-color: var(--fill-color);\n",
              "      border-top-color: var(--fill-color);\n",
              "    }\n",
              "    60% {\n",
              "      border-color: transparent;\n",
              "      border-right-color: var(--fill-color);\n",
              "    }\n",
              "    80% {\n",
              "      border-color: transparent;\n",
              "      border-right-color: var(--fill-color);\n",
              "      border-bottom-color: var(--fill-color);\n",
              "    }\n",
              "    90% {\n",
              "      border-color: transparent;\n",
              "      border-bottom-color: var(--fill-color);\n",
              "    }\n",
              "  }\n",
              "</style>\n",
              "\n",
              "  <script>\n",
              "    async function quickchart(key) {\n",
              "      const quickchartButtonEl =\n",
              "        document.querySelector('#' + key + ' button');\n",
              "      quickchartButtonEl.disabled = true;  // To prevent multiple clicks.\n",
              "      quickchartButtonEl.classList.add('colab-df-spinner');\n",
              "      try {\n",
              "        const charts = await google.colab.kernel.invokeFunction(\n",
              "            'suggestCharts', [key], {});\n",
              "      } catch (error) {\n",
              "        console.error('Error during call to suggestCharts:', error);\n",
              "      }\n",
              "      quickchartButtonEl.classList.remove('colab-df-spinner');\n",
              "      quickchartButtonEl.classList.add('colab-df-quickchart-complete');\n",
              "    }\n",
              "    (() => {\n",
              "      let quickchartButtonEl =\n",
              "        document.querySelector('#df-642adb4d-db09-4569-bc23-56daad3cb5e5 button');\n",
              "      quickchartButtonEl.style.display =\n",
              "        google.colab.kernel.accessAllowed ? 'block' : 'none';\n",
              "    })();\n",
              "  </script>\n",
              "</div>\n",
              "\n",
              "    </div>\n",
              "  </div>\n"
            ],
            "application/vnd.google.colaboratory.intrinsic+json": {
              "type": "dataframe",
              "variable_name": "df"
            }
          },
          "metadata": {},
          "execution_count": 5
        }
      ]
    },
    {
      "cell_type": "markdown",
      "source": [
        "I dati hanno delle caratteristiche nelle quale noi non siamo interesatti. Allora, rimaneremo solanmente con i campioni di testo doppo il proccessamento."
      ],
      "metadata": {
        "id": "DDd5tXBvnNpS"
      }
    },
    {
      "cell_type": "code",
      "source": [
        "text = df.text.tolist()\n",
        "text = [filter_tweets(s) for s in text]"
      ],
      "metadata": {
        "id": "Qj9kjVJyokW2"
      },
      "execution_count": 6,
      "outputs": []
    },
    {
      "cell_type": "code",
      "source": [
        "# transformare i dati in una matrice\n",
        "tfidf = TfidfVectorizer(max_features=100, stop_words=stopwords)\n",
        "X = tfidf.fit_transform(text).todense()"
      ],
      "metadata": {
        "id": "xqq9ofLioqPQ"
      },
      "execution_count": 7,
      "outputs": []
    },
    {
      "cell_type": "code",
      "source": [
        "# prendere un sottocampione dei dati per fare il esperimento piu efficace\n",
        "N = X.shape[0]\n",
        "idx = np.random.choice(N, size=2000, replace=False)\n",
        "x = X[idx]\n",
        "labels = df.handle[idx].tolist()"
      ],
      "metadata": {
        "id": "DhSPK9DSpBrF"
      },
      "execution_count": 8,
      "outputs": []
    },
    {
      "cell_type": "code",
      "source": [
        "# calcolare le proporzione dei date que appartengono a ogni grappolo per verificare se il set di dati e equilibrato\n",
        "p_trump = sum(1.0 if e == 'realDonaldTrump' else 0.0 for e in labels) / len(labels)\n",
        "print(f\"[~] Proporzione @realDonaldTrump: {p_trump}\")\n",
        "print(f\"[~] Proporzione @HillaryClinton: {1 - p_trump}\")"
      ],
      "metadata": {
        "colab": {
          "base_uri": "https://localhost:8080/"
        },
        "id": "S7Bow4H2paH8",
        "outputId": "3a3363e2-c119-43bb-d965-4af495f221d9"
      },
      "execution_count": 9,
      "outputs": [
        {
          "output_type": "stream",
          "name": "stdout",
          "text": [
            "[~] PRoportion @realDonaldTrump: 0.51\n",
            "[~] Proportion @HillaryClinton: 0.49\n"
          ]
        }
      ]
    },
    {
      "cell_type": "code",
      "source": [
        "# transformare la matrice dei dati in una liste di distanze a coppie\n",
        "dist_array = pdist(x)"
      ],
      "metadata": {
        "id": "Pps39vi5qeUb"
      },
      "execution_count": 10,
      "outputs": []
    },
    {
      "cell_type": "code",
      "source": [
        "# calcolare la gerarchia\n",
        "Z = linkage(dist_array, 'ward')\n",
        "plt.title(\"Ward\")\n",
        "dendrogram(Z, labels=labels)\n",
        "plt.show()\n"
      ],
      "metadata": {
        "colab": {
          "base_uri": "https://localhost:8080/",
          "height": 518
        },
        "id": "7zgj7Z6_sNug",
        "outputId": "b98149ed-81da-4ff0-8add-525b9282fde7"
      },
      "execution_count": 11,
      "outputs": [
        {
          "output_type": "display_data",
          "data": {
            "text/plain": [
              "<Figure size 640x480 with 1 Axes>"
            ],
            "image/png": "[encoded data removed]"
          },
          "metadata": {}
        }
      ]
    },
    {
      "cell_type": "code",
      "source": [
        "Y = np.array([1 if e == 'realDonaldTrump' else 2 for e in labels])"
      ],
      "metadata": {
        "id": "MAACPA6Gtg6w"
      },
      "execution_count": 12,
      "outputs": []
    },
    {
      "cell_type": "code",
      "source": [
        "C = fcluster(Z, 9, criterion='distance')\n",
        "categories = set(C)\n",
        "print(f\"[~] valori in C:\", categories)"
      ],
      "metadata": {
        "colab": {
          "base_uri": "https://localhost:8080/"
        },
        "id": "XqeYn3QitkLC",
        "outputId": "33d2fdec-9118-47de-fdb5-a23e02222eda"
      },
      "execution_count": 13,
      "outputs": [
        {
          "output_type": "stream",
          "name": "stdout",
          "text": [
            "[~] valori in C: {1, 2}\n"
          ]
        }
      ]
    },
    {
      "cell_type": "code",
      "source": [
        "# e la stessa funzione che si puo trovare nella mia implementazione dei soft k means\n",
        "def purity(true_labels, cluster_assignments, categories):\n",
        "  N = len(true_labels)\n",
        "\n",
        "  total = 0.0\n",
        "  for k in categories:\n",
        "    max_intersection = 0\n",
        "    for j in categories:\n",
        "      intersection = ((cluster_assignments == k) & (true_labels == j)).sum()\n",
        "      if intersection > max_intersection:\n",
        "        max_intersection = intersection\n",
        "    total += max_intersection\n",
        "  return total / N"
      ],
      "metadata": {
        "id": "q1_fSbwiugvK"
      },
      "execution_count": 14,
      "outputs": []
    },
    {
      "cell_type": "code",
      "source": [
        "print(\"[~] Purity:\", purity(Y, C, categories)) # calolare la pureza"
      ],
      "metadata": {
        "colab": {
          "base_uri": "https://localhost:8080/"
        },
        "id": "Q0LS0g8uxRUD",
        "outputId": "a57c5ab8-db80-42a7-8053-d62b2ab6dd04"
      },
      "execution_count": 15,
      "outputs": [
        {
          "output_type": "stream",
          "name": "stdout",
          "text": [
            "[~] Purity: 0.538\n"
          ]
        }
      ]
    },
    {
      "cell_type": "code",
      "source": [
        "if (C == 1).sum() < (C == 2).sum():\n",
        "  d = 1\n",
        "  h = 2\n",
        "else:\n",
        "  d = 2\n",
        "  h = 1"
      ],
      "metadata": {
        "id": "Khhd75kdyBOF"
      },
      "execution_count": 16,
      "outputs": []
    },
    {
      "cell_type": "code",
      "source": [
        "\n",
        "actually_donald = ((C == d) & (Y == 1)).sum()\n",
        "donald_cluster_size = (C == d).sum()\n",
        "print(\"[~] Pureza di grappolo @realDonaldTrump:\", float(actually_donald) / donald_cluster_size)\n",
        "\n",
        "actually_hillary = ((C == h) & (Y == 2)).sum()\n",
        "hillary_cluster_size = (C == h).sum()\n",
        "print(\"[~] Pureza di grappolo @HillaryClinton cluster:\", float(actually_hillary) / hillary_cluster_size)\n",
        "\n"
      ],
      "metadata": {
        "id": "HTizMx5H0ITs",
        "colab": {
          "base_uri": "https://localhost:8080/"
        },
        "outputId": "0d2a7e63-6793-4218-fd91-a51923aa9884"
      },
      "execution_count": 17,
      "outputs": [
        {
          "output_type": "stream",
          "name": "stdout",
          "text": [
            "purity of @realDonaldTrump cluster: 0.9528301886792453\n",
            "purity of @HillaryClinton cluster: 0.5147835269271384\n"
          ]
        }
      ]
    },
    {
      "cell_type": "markdown",
      "source": [
        "# Random Forest"
      ],
      "metadata": {
        "id": "OFJuriA1tLkn"
      }
    },
    {
      "cell_type": "code",
      "source": [
        "# vedremo il rendimento di un modello di foresta casuale nei datti solamente per curiosita\n",
        "from sklearn.ensemble import RandomForestClassifier"
      ],
      "metadata": {
        "id": "xeJ6Rrn_s4iG"
      },
      "execution_count": 18,
      "outputs": []
    },
    {
      "cell_type": "code",
      "source": [
        "type(X),type(df.handle)"
      ],
      "metadata": {
        "colab": {
          "base_uri": "https://localhost:8080/"
        },
        "id": "0s3JSdoHuUc6",
        "outputId": "d53fdce2-01df-45d0-d499-7df1f8ad1810"
      },
      "execution_count": 21,
      "outputs": [
        {
          "output_type": "execute_result",
          "data": {
            "text/plain": [
              "(numpy.matrix, pandas.core.series.Series)"
            ]
          },
          "metadata": {},
          "execution_count": 21
        }
      ]
    },
    {
      "cell_type": "code",
      "source": [
        "# convertire la matrice a dati primitivi accettato dai libreria\n",
        "X_ = np.asarray(X)"
      ],
      "metadata": {
        "id": "HrVmRv_nuk42"
      },
      "execution_count": 24,
      "outputs": []
    },
    {
      "cell_type": "code",
      "source": [
        "random_forest = RandomForestClassifier()\n",
        "random_forest.fit(X_, df.handle)\n",
        "print(\"[~] Puntuazione della foresta casuale:\", random_forest.score(X_, df.handle))"
      ],
      "metadata": {
        "colab": {
          "base_uri": "https://localhost:8080/"
        },
        "id": "F0aIWdRIt2Gm",
        "outputId": "7d13a1f5-2571-4942-9190-4fad0174206f"
      },
      "execution_count": 25,
      "outputs": [
        {
          "output_type": "stream",
          "name": "stdout",
          "text": [
            "[~] Puntuazione della foresta casuale: 0.9553072625698324\n"
          ]
        }
      ]
    },
    {
      "cell_type": "markdown",
      "source": [
        "Questi risultati sono quasi gli stessi di quel problema con il dataset mnist. La prestazione è quasi accertata al 100%."
      ],
      "metadata": {
        "id": "0iSExlOtu9ep"
      }
    },
    {
      "cell_type": "markdown",
      "source": [
        "# Analisi Finale\n",
        "Adesso vogliamo vedere per ogni grappolo le parole che hanno la puntuazione tf-idf la piu alta."
      ],
      "metadata": {
        "id": "OYIL7lehvcHp"
      }
    },
    {
      "cell_type": "code",
      "source": [
        "word_2_index = tfidf.vocabulary_ # ottenere il vocabolario\n",
        "t_avg = np.array(\n",
        "    x[C == d].mean(axis=0)\n",
        ").flatten()\n",
        "t_sorted = sorted(word_2_index.keys(),key=lambda w: -t_avg[word_2_index[w]])\n",
        "\n",
        "h_avg = np.array(\n",
        "    x[C == h].mean(axis=0)\n",
        ").flatten()\n",
        "h_sorted = sorted(word_2_index.keys(), key=lambda w: -h_avg[word_2_index[w]])"
      ],
      "metadata": {
        "id": "5DT_V_CDvXnq"
      },
      "execution_count": 30,
      "outputs": []
    },
    {
      "cell_type": "code",
      "source": [
        "print(f\"[~] Top 10 termini in grappolo di Trump: {' '.join(t_sorted[:10])}\")\n",
        "print(f\"[~] Top 10 termini in grappolo di Hillary: {' '.join(h_sorted[:10])}\")\n"
      ],
      "metadata": {
        "colab": {
          "base_uri": "https://localhost:8080/"
        },
        "id": "qhIFPby-wZmq",
        "outputId": "05ed3a79-1785-4bf8-ce54-ac19415c0f18"
      },
      "execution_count": 31,
      "outputs": [
        {
          "output_type": "stream",
          "name": "stdout",
          "text": [
            "[~] Top 10 termini in grappolo di Trump: thank trump2016 makeamericagreatagain america trump today our donald my we\n",
            "[~] Top 10 termini in grappolo di Hillary: trump hillary we will he great not donald our have\n"
          ]
        }
      ]
    }
  ]
}